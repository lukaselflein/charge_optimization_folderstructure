{
 "cells": [
  {
   "cell_type": "markdown",
   "metadata": {},
   "source": [
    "# Dissecting the fitESPconstrained script\n",
    "We analyse the fitting routine implemented by Johannes piece by piece.\n",
    "\n",
    "Original:\n",
    "```bash\n",
    "python3 ../bin/new_fit_esp_constrained.py horton_charges/costfunction_average.h5 200_ps_snapshot/0_initial_structure/snapshot.pdb 200_ps_snapshot/0_initial_structure/example.top ../fitting_constraint_files/atoms_in_charge_group.csv ../fitting_constraint_files/charge_group_total_charge.csv ../fitting_constraint_files/atoms_of_same_charge.csv updated_charges.top horton_charges/fitted_point_charges.csv -i ../fitting_constraint_files/hydrogen_per_atom.csv --verbose\n",
    "```"
   ]
  },
  {
   "cell_type": "code",
   "execution_count": 11,
   "metadata": {},
   "outputs": [
    {
     "name": "stdout",
     "output_type": "stream",
     "text": [
      "\u001b[0m\u001b[01;34m200_ps_snapshot\u001b[0m/       \u001b[01;36mnew_fit_esp_constrained.py\u001b[0m@\r\n",
      "cmd.sh                 \u001b[01;34m__pycache__\u001b[0m/\r\n",
      "\u001b[01;36mdissect_fitesp.ipynb\u001b[0m@  \u001b[01;36mrefactored_fitESPconstrained.py\u001b[0m@\r\n",
      "\u001b[01;34mhorton_charges\u001b[0m/        \u001b[01;36munderstand_lagrange_multiplier.ipynb\u001b[0m@\r\n",
      "lagrange-1.png         updated_charges.top\r\n"
     ]
    }
   ],
   "source": [
    "%ls\n",
    "import matplotlib.pyplot as plt\n",
    "from smamp.tools import read_atom_numbers\n",
    "from new_fit_esp_constrained import *\n",
    "import h5py"
   ]
  },
  {
   "cell_type": "code",
   "execution_count": 12,
   "metadata": {},
   "outputs": [],
   "source": [
    "def unconstrainedMinimize(A_matrix, b_vector, C_scalar, debug = False):\n",
    "    x = np.linalg.solve(A_matrix, b_vector)\n",
    "    return x, A_matrix, b_vector"
   ]
  },
  {
   "cell_type": "code",
   "execution_count": 13,
   "metadata": {},
   "outputs": [],
   "source": [
    "def old_constrainedMinimize(A_matrix, b_vector, C_scalar=0, D_matrix=None,\n",
    "                        q_vector=np.array([0]), debug=False):\n",
    "\n",
    "    N = b_vector.shape[0]\n",
    "    M = q_vector.shape[0]\n",
    "    \n",
    "    if not isinstance(D_matrix, np.ndarray):\n",
    "        D_matrix = np.atleast_2d(np.ones(N))\n",
    "\n",
    "    # Cast everything to arrays\n",
    "    A = np.atleast_2d(A_matrix)\n",
    "    D = np.atleast_2d(D_matrix)\n",
    "    b = np.atleast_1d(b_vector)\n",
    "    q = np.atleast_1d(q_vector) \n",
    "    \n",
    "    ###################################ü\n",
    "    # WHY IS THERE A FACTOR OF 2??    \n",
    "    \n",
    "    # For old versions of numpy, block is not available. Fallback:\n",
    "    if  float(np.version.version[2:]) < 13:\n",
    "        A_con = np.bmat([[ 2*A, D.T            ],\n",
    "                         [ D,   np.zeros((M,M))]])\n",
    "        b_con = np.bmat([2*b, q]).T              \n",
    "\n",
    "    else:\n",
    "        A_con = np.block([[ 2*A, D.T ],\n",
    "                          [ D,   np.zeros((M,M))]])\n",
    "              \n",
    "        b_con = np.block([2*b, q])              \n",
    "\n",
    "    x = np.linalg.solve(A_con, b_con)\n",
    "\n",
    "    return x, A_con, b_con\n"
   ]
  },
  {
   "cell_type": "code",
   "execution_count": 14,
   "metadata": {},
   "outputs": [],
   "source": [
    "def constrainedMinimize(A_matrix, b_vector, C_scalar=0, D_matrix=None,\n",
    "                        q_vector=np.array([0]), debug=False):\n",
    "\n",
    "    N = b_vector.shape[0]\n",
    "    M = q_vector.shape[0]\n",
    "    \n",
    "    if not isinstance(D_matrix, np.ndarray):\n",
    "        D_matrix = np.atleast_2d(np.ones(N))    \n",
    "\n",
    "    # Cast everything to arrays\n",
    "    A = np.atleast_2d(A_matrix)\n",
    "    D = np.atleast_2d(D_matrix)\n",
    "    b = np.atleast_1d(b_vector)\n",
    "    q = np.atleast_1d(q_vector) \n",
    "    \n",
    "    # For old versions of numpy, block is not available. Fallback:\n",
    "    if  float(np.version.version[2:]) < 13:\n",
    "        A_con = np.bmat([[ A, D.T            ],\n",
    "                         [ D, np.zeros((M,M))]])\n",
    "        b_con = np.bmat([b, q]).T              \n",
    "\n",
    "    else:\n",
    "        A_con = np.block([[ A, D.T ],\n",
    "                          [ D, np.zeros((M,M))]])\n",
    "              \n",
    "        b_con = np.block([b, q])              \n",
    "\n",
    "    x = np.linalg.solve(A_con, b_con)\n",
    "\n",
    "    return x, A_con, b_con"
   ]
  },
  {
   "cell_type": "code",
   "execution_count": 15,
   "metadata": {},
   "outputs": [],
   "source": [
    "def read_horton_cost_function(file_name):\n",
    "    cost_function = h5py.File(file_name)\n",
    "    cost = cost_function['cost']\n",
    "    A_horton = cost['A'][()]\n",
    "    B_horton = cost['B'][()]\n",
    "    C_horton = cost['C'][()]\n",
    "    N_horton = cost['natom'][()]\n",
    "\n",
    "    return A_horton, B_horton, C_horton, N_horton"
   ]
  },
  {
   "cell_type": "code",
   "execution_count": 16,
   "metadata": {},
   "outputs": [],
   "source": [
    "def create_structure(infile_pdb, infile_top, infile_cost_h5, strip_string=':SOL,CL', implicitHbondingPartners = None):\n",
    "        \n",
    "    if implicitHbondingPartners is None:\n",
    "        implicitHbondingPartners = read_atom_numbers()\n",
    "        \n",
    "    ua_ase_struct = ase.io.read(infile_pdb)\n",
    "    ua_pmd_struct = pmd.load_file(infile_pdb)\n",
    "    with warnings.catch_warnings():\n",
    "        warnings.simplefilter(\"ignore\")\n",
    "        ua_pmd_top = pmd.gromacs.GromacsTopologyFile(infile_top,parametrize=False)\n",
    "\n",
    "    ua_pmd_top.strip(strip_string)\n",
    "        #strip water and electrolyte from system (if not yet done in .top)\n",
    "    ua_pmd_top.box = ua_pmd_struct.box # Needed because .pdb contains box info\n",
    "    ua_pmd_top.positions = ua_pmd_struct.positions\n",
    "\n",
    "    ua_names = [ a.name for a in ua_pmd_top.atoms ]\n",
    "    ua_residues = [ a.residue.name for a in ua_pmd_top.atoms ]\n",
    "\n",
    "    aa_ase_struct, aa_pmd_struct, aa_names, aa_residues = \\\n",
    "        insertHbyList(ua_ase_struct,ua_pmd_top,\n",
    "        implicitHbondingPartners,1.0)\n",
    "\n",
    "    ua_count = len(ua_ase_struct)     # united atoms structure\n",
    "    aa_count = len(aa_ase_struct) # all atoms structure\n",
    "\n",
    "    ua_ase_index = np.arange(ua_count)\n",
    "    aa_ase_index = np.arange(aa_count)\n",
    "\n",
    "    aa_atom_residue_list = list(zip(aa_names,aa_residues))\n",
    "    aa_ase_index = range(aa_count)\n",
    "    aa_ase2pmd = dict(zip(aa_ase_index,aa_atom_residue_list))\n",
    "    aa_pmd2ase = dict(zip(aa_atom_residue_list,aa_ase_index))\n",
    "\n",
    "    ua_atom_residue_list = list(zip(ua_names,ua_residues))\n",
    "    ua_ase_index = range(ua_count)\n",
    "    ua_ase2pmd = dict(zip(ua_ase_index,ua_atom_residue_list))\n",
    "    ua_pmd2ase = dict(zip(ua_atom_residue_list,ua_ase_index))\n",
    "\n",
    "    # TODO: distinction for ua and aa fitting:\n",
    "    pmd_struct = ua_pmd_struct\n",
    "    pmd_top = ua_pmd_top\n",
    "    ase2pmd = ua_ase2pmd\n",
    "    pmd2ase = ua_pmd2ase\n",
    "    return pmd_struct, pmd_top, ase2pmd, pmd2ase"
   ]
  },
  {
   "cell_type": "code",
   "execution_count": 17,
   "metadata": {},
   "outputs": [],
   "source": [
    "def read_constraint_files(infile_atoms_in_cg_csv, infile_cg_charges_csv, infile_atoms_of_same_charge_csv, ase2pmd):\n",
    "    ### Charge Groups:\n",
    "    # read in all charge groups and construct the corresponding constraints\n",
    "    cg2ase, cg2cgtype, ncgtypes = read_AtomName_ChargeGroup(file_name=infile_atoms_in_cg_csv, ase2pmd=ase2pmd)\n",
    "\n",
    "    cg_q = read_ChargeGroup_TotalCharge(file_name=infile_cg_charges_csv)\n",
    "\n",
    "    cg2q  = [ cg_q[cg] for cg in cg2cgtype ]\n",
    "\n",
    "    ### Same Charged Atoms\n",
    "    sym2ase = read_SameChargedAtoms(\n",
    "        file_name = infile_atoms_of_same_charge_csv, ase2pmd = ase2pmd)\n",
    "    \n",
    "    return cg2ase, cg2cgtype, ncgtypes, cg_q, cg_q, cg2q, sym2ase"
   ]
  },
  {
   "cell_type": "code",
   "execution_count": 18,
   "metadata": {},
   "outputs": [],
   "source": [
    "def construct_constraint_matrices(cg2ase, N_horton, cg2q, sym2ase, qtot, debug):\n",
    "    global D_matrix_cg_red\n",
    "    global q_vector_cg_red\n",
    "    D_matrix_cg_red, q_vector_cg_red = constructChargegroupConstraints(\n",
    "        chargeGroups=cg2ase, N=N_horton, q=cg2q, debug=debug)\n",
    "\n",
    "    global D_matrix_sym_red\n",
    "    global q_vector_sym_red    \n",
    "    D_matrix_sym_red, q_vector_sym_red = constructPairwiseSymmetryConstraints(\n",
    "        charges=sym2ase, N=N_horton, symmetry=1.0, debug=False)\n",
    "\n",
    "    D_matrix_qtot, q_vector_qtot = constructTotalChargeConstraint(\n",
    "        charge=qtot, N=N_horton)\n",
    "\n",
    "    D_matrix_all_red, q_vector_all_red = concatenated_constraints(\n",
    "        D_matrices=[D_matrix_cg_red,D_matrix_sym_red,D_matrix_qtot],\n",
    "        q_vectors=[q_vector_cg_red,q_vector_sym_red,q_vector_qtot])\n",
    "\n",
    "    # remove redundant constraints \n",
    "    D_matrix_cg, q_vector_cg = construct_D_of_full_rank(\n",
    "        D_matrix_cg_red, q_vector_cg_red)\n",
    "    D_matrix_sym, q_vector_sym  = construct_D_of_full_rank(\n",
    "        D_matrix_sym_red, q_vector_sym_red )\n",
    "    D_matrix_all, q_vector_all = construct_D_of_full_rank(\n",
    "        D_matrix_all_red, q_vector_all_red)\n",
    "    \n",
    "    if debug:\n",
    "        D_matrix_cg_qtot_red, q_vector_cg_qtot_red = concatenated_constraints(\n",
    "            D_matrices = [D_matrix_cg_red,D_matrix_qtot],\n",
    "            q_vectors = [q_vector_cg_red,q_vector_qtot])\n",
    "        D_matrix_cg_qtot, q_vector_cg_qtot = construct_D_of_full_rank(\n",
    "            D_matrix_cg_qtot_red, q_vector_cg_qtot_red)\n",
    "\n",
    "        D_matrix_sym_qtot_red, q_vector_sym_qtot_red = concatenated_constraints(\n",
    "            D_matrices = [D_matrix_sym_red,D_matrix_qtot],\n",
    "            q_vectors = [q_vector_sym_red,q_vector_qtot])\n",
    "        D_matrix_sym_qtot, q_vector_sym_qtot = construct_D_of_full_rank(\n",
    "            D_matrix_sym_qtot_red, q_vector_sym_qtot_red)\n",
    "\n",
    "        # CG CONSTRAINTS\n",
    "        rank_D_cg = np.linalg.matrix_rank(D_matrix_cg)\n",
    "        rank_Dq_cg = np.linalg.matrix_rank(np.hstack((D_matrix_cg,\n",
    "                                           np.atleast_2d(q_vector_cg).T)))\n",
    "        # CG + QTOT CONSTRAINTS\n",
    "        rank_D_cg_qtot = np.linalg.matrix_rank(D_matrix_cg_qtot)\n",
    "        rank_Dq_cg_qtot = np.linalg.matrix_rank(np.hstack((D_matrix_cg_qtot,\n",
    "                                           np.atleast_2d(q_vector_cg_qtot).T)))\n",
    "        # SYM CONSTRAINTS\n",
    "        rank_D_sym = np.linalg.matrix_rank(D_matrix_sym)\n",
    "        rank_Dq_sym = np.linalg.matrix_rank(np.hstack((D_matrix_sym,\n",
    "                                           np.atleast_2d(q_vector_sym).T)))\n",
    "        # SYM + QTOT CONSTRAINTS\n",
    "        rank_D_sym_qtot = np.linalg.matrix_rank(D_matrix_sym_qtot)\n",
    "        rank_Dq_sym_qtot = np.linalg.matrix_rank(np.hstack((D_matrix_sym_qtot,\n",
    "                                           np.atleast_2d(q_vector_sym_qtot).T)))\n",
    "        # ALL CONSTRAINTS\n",
    "        rank_D_all = np.linalg.matrix_rank(D_matrix_all)\n",
    "        rank_Dq_all = np.linalg.matrix_rank(np.hstack((D_matrix_all,\n",
    "                                           np.atleast_2d(q_vector_all).T)))\n",
    "        \n",
    "   \n",
    "    return  D_matrix_all, q_vector_all, D_matrix_qtot, q_vector_qtot, D_matrix_cg_qtot, \\\n",
    "            q_vector_cg_qtot, D_matrix_sym_qtot, q_vector_sym_qtot"
   ]
  },
  {
   "cell_type": "code",
   "execution_count": 19,
   "metadata": {},
   "outputs": [],
   "source": [
    "def fitESPconstrained(infile_pdb, infile_top, infile_cost_h5,\n",
    "    infile_atoms_in_cg_csv, infile_cg_charges_csv,\n",
    "    infile_atoms_of_same_charge_csv,\n",
    "    qtot = 0.0, strip_string=':SOL,CL',\n",
    "    implicitHbondingPartners = None,\n",
    "    debug=False, outfile_top = None, outfile_csv = None):\n",
    "    \n",
    "    # A: construct all-atom representation from united-atom structure and topology\n",
    "    pmd_struct, pmd_top, ase2pmd, pmd2ase = create_structure(infile_pdb, infile_top, infile_cost_h5, \n",
    "                                                             strip_string, implicitHbondingPartners)\n",
    "    \n",
    "    # B: read cost function\n",
    "    A_horton, B_horton, C_horton, N_horton = read_horton_cost_function(file_name=infile_cost_h5)\n",
    "    \n",
    "    # C: read constraints files\n",
    "    cg2ase, cg2cgtype, ncgtypes, cg_q, cg_q, cg2q, sym2ase = read_constraint_files(infile_atoms_in_cg_csv, infile_cg_charges_csv, infile_atoms_of_same_charge_csv, ase2pmd)\n",
    "\n",
    "    # D: construct constraints matrices\n",
    "    global D_matrix_all\n",
    "    global q_vector_all\n",
    "    D_matrix_all, q_vector_all, D_matrix_qtot, q_vector_qtot, D_matrix_cg_qtot, q_vector_cg_qtot, D_matrix_sym_qtot, q_vector_sym_qtot = \\\n",
    "    construct_constraint_matrices(cg2ase, N_horton, cg2q, sym2ase, qtot, debug)\n",
    "\n",
    "    # E: Minimization\n",
    "    ### Constrained minimization\n",
    "    X, A, B = constrainedMinimize(A_matrix = A_horton,\n",
    "                        b_vector = B_horton,\n",
    "                        C_scalar = C_horton,\n",
    "                        D_matrix = D_matrix_all,\n",
    "                        q_vector = q_vector_all,\n",
    "                        debug    = debug)\n",
    "\n",
    "    ase2pmd_df = pd.DataFrame(ase2pmd).T\n",
    "    ase2pmd_df.columns = ['atom','residue']\n",
    "    ase2pmd_df['q'] = X[:N_horton]\n",
    "\n",
    "    # additional debug cases\n",
    "    if debug:\n",
    "        ### Unconstrained minimization\n",
    "        X_unconstrained, A_unconstrained, B_unconstrained = \\\n",
    "            unconstrainedMinimize(A_matrix = A_horton,\n",
    "                        b_vector = B_horton,\n",
    "                        C_scalar = C_horton,\n",
    "                        debug    = debug)\n",
    "\n",
    "        ### Total charge constraint minimization\n",
    "        X_qtot_constraint, A_qtot_constraint, B_qtot_constraint = \\\n",
    "            constrainedMinimize(A_matrix = A_horton,\n",
    "                        b_vector = B_horton,\n",
    "                        C_scalar = C_horton,\n",
    "                        D_matrix = D_matrix_qtot,\n",
    "                        q_vector = q_vector_qtot,\n",
    "                        debug    = debug)\n",
    "\n",
    "        ### Charge group & total charge constraint minimization \n",
    "        X_cg_qtot, A_cg_qtot, B_cg_qtot = \\\n",
    "            constrainedMinimize(A_matrix = A_horton,\n",
    "                        b_vector = B_horton,\n",
    "                        C_scalar = C_horton,\n",
    "                        D_matrix = D_matrix_cg_qtot,\n",
    "                        q_vector = q_vector_cg_qtot,\n",
    "                        debug    = debug)\n",
    "\n",
    "       ### Symmetry & total charge constraint minimization\n",
    "        X_sym_qtot, A_sym_qtot, B_sym_qtot = \\\n",
    "            constrainedMinimize(A_matrix = A_horton,\n",
    "                        b_vector = B_horton,\n",
    "                        C_scalar = C_horton,\n",
    "                        D_matrix = D_matrix_sym_qtot,\n",
    "                        q_vector = q_vector_sym_qtot,\n",
    "                        debug    = debug)\n",
    "\n",
    "\n",
    "        ase2pmd_df['q_unconstrained'] = X_unconstrained\n",
    "        ase2pmd_df['q_qtot_constrained'] = X_qtot_constraint[:N_horton]\n",
    "        ase2pmd_df['q_cg_qtot_constrained'] = X_cg_qtot[:N_horton]\n",
    "        ase2pmd_df['q_sym_qtot_constrained'] = X_sym_qtot[:N_horton]\n",
    "\n",
    "        checkChargeGroups(ase2pmd_df,cg2ase,cg2cgtype,cg2q)\n",
    "        checkSymmetries(ase2pmd_df,sym2ase)\n",
    "\n",
    "\n",
    "    # one line to assign unique charge group numbers starting at 1 to ASE indices\n",
    "    ase2cg = dict([(idx, cgnr+1) for cgnr,cg in enumerate(cg2ase) for idx in cg])\n",
    "\n",
    "    for a in pmd_top.atoms:\n",
    "        a.charge = X[ pmd2ase[(a.name,a.residue.name)] ]\n",
    "        a.cgnr = ase2cg[ pmd2ase[(a.name,a.residue.name)] ]\n",
    "\n",
    "    if outfile_top:\n",
    "        pmd_top.save(outfile_top, overwrite=True)\n",
    "\n",
    "    if outfile_csv:\n",
    "        ase2pmd_df.to_csv(outfile_csv, sep=',')\n",
    "\n",
    "    return X[:N_horton], X[N_horton:], ase2pmd_df, cg2ase, cg2cgtype, cg2q, sym2ase"
   ]
  },
  {
   "cell_type": "code",
   "execution_count": 20,
   "metadata": {},
   "outputs": [
    {
     "data": {
      "image/png": "[encoded data removed]",
      "text/plain": [
       "<Figure size 432x288 with 1 Axes>"
      ]
     },
     "metadata": {
      "needs_background": "light"
     },
     "output_type": "display_data"
    }
   ],
   "source": [
    "def main():\n",
    "    # Total Charge\n",
    "    total_charge = 0\n",
    "    \n",
    "    # Hydrogen insertion rules\n",
    "    implicitHbondingPartners = read_atom_numbers()\n",
    "\n",
    "    q, lagrange_multiplier, info_df, cg2ase, cg2cgtype, cg2q, sym2ase = \\\n",
    "    fitESPconstrained(infile_pdb = \"200_ps_snapshot/0_initial_structure/snapshot.pdb\",\n",
    "              infile_top = \"200_ps_snapshot/0_initial_structure/example.top\",\n",
    "              infile_cost_h5 = \"horton_charges/costfunction_average.h5\",\n",
    "              infile_atoms_in_cg_csv = \"../fitting_constraint_files/atoms_in_charge_group.csv\",\n",
    "              infile_cg_charges_csv = \"../fitting_constraint_files/charge_group_total_charge.csv\",\n",
    "              infile_atoms_of_same_charge_csv = \"../fitting_constraint_files/atoms_of_same_charge.csv\",\n",
    "              qtot = total_charge, strip_string=':SOL,CL',\n",
    "              implicitHbondingPartners = implicitHbondingPartners,\n",
    "              debug = True)\n",
    "    \n",
    "    return lagrange_multiplier\n",
    "l = main()\n",
    "\n",
    "plt.hist(l, 40)\n",
    "plt.show()"
   ]
  },
  {
   "cell_type": "code",
   "execution_count": null,
   "metadata": {},
   "outputs": [],
   "source": []
  },
  {
   "cell_type": "markdown",
   "metadata": {},
   "source": [
    "## Compare constrained and unconstrained Min\n",
    "Are constrained min with empty constraints and unconstraint min equivalent?"
   ]
  },
  {
   "cell_type": "code",
   "execution_count": 29,
   "metadata": {},
   "outputs": [
    {
     "name": "stdout",
     "output_type": "stream",
     "text": [
      "0.007463604221824988\n",
      "0.08960841801425566\n"
     ]
    },
    {
     "data": {
      "image/png": "[encoded data removed]",
      "text/plain": [
       "<Figure size 432x288 with 1 Axes>"
      ]
     },
     "metadata": {
      "needs_background": "light"
     },
     "output_type": "display_data"
    }
   ],
   "source": [
    "A, B, C, N = read_horton_cost_function(file_name=\"horton_charges/costfunction_average.h5\")\n",
    "\n",
    "# Unconstrained minimization\n",
    "X_un, A_un, B_un = unconstrainedMinimize(A_matrix=A, b_vector=B, C_scalar=C)\n",
    "\n",
    "# Constrained minimization\n",
    "X, A_, B_ = constrainedMinimize(A_matrix=A, b_vector=B, C_scalar=C)\n",
    "\n",
    "diff = X[0:len(X_un)] - X_un\n",
    "\n",
    "print(sum(X_un))\n",
    "print(sum(X))\n",
    "\n",
    "plt.hist(diff, 30)\n",
    "plt.show()"
   ]
  },
  {
   "cell_type": "markdown",
   "metadata": {},
   "source": [
    "We can see that the two minimization methods are not equivalent, but very similar."
   ]
  },
  {
   "cell_type": "code",
   "execution_count": 27,
   "metadata": {},
   "outputs": [
    {
     "data": {
      "image/png": "[encoded data removed]",
      "text/plain": [
       "<Figure size 432x288 with 1 Axes>"
      ]
     },
     "metadata": {
      "needs_background": "light"
     },
     "output_type": "display_data"
    },
    {
     "data": {
      "image/png": "[encoded data removed]",
      "text/plain": [
       "<Figure size 432x288 with 1 Axes>"
      ]
     },
     "metadata": {
      "needs_background": "light"
     },
     "output_type": "display_data"
    }
   ],
   "source": [
    "X_un, A_un, B_un = unconstrainedMinimize(A_matrix=A, b_vector=B, C_scalar=C)\n",
    "X, A_, B_ = constrainedMinimize(A_matrix=A, b_vector=B, C_scalar=C)\n",
    "\n",
    "plt.plot(X[:len(X_un)], X_un, lw=0, marker='o')\n",
    "plt.plot([min(X), max(X)], [min(X), max(X)])\n",
    "plt.show()\n",
    "\n",
    "diff = X[:len(X_un)] - X_un\n",
    "plt.hist(diff)\n",
    "plt.show()"
   ]
  },
  {
   "cell_type": "code",
   "execution_count": null,
   "metadata": {},
   "outputs": [],
   "source": [
    "print(D_matrix_all)\n",
    "print(q_vector_all)\n",
    "X, A_, B_ = constrainedMinimize(A_matrix, b_vector, C_scalar=0, \n",
    "                                D_matrix=D_matrix_all,\n",
    "                                q_vector=q_vector_all)\n",
    "X_un, A_, B_ = constrainedMinimize(A_matrix, b_vector, C_scalar=0, \n",
    "                                D_matrix=D_matrix_all,\n",
    "                                q_vector=q_vector_all)\n",
    "plt.plot(X, X_new, lw=0, marker='o')\n",
    "plt.plot([min(X), max(X)], [min(X), max(X)])\n",
    "plt.show()\n",
    "\n",
    "diff = X - X_new\n",
    "plt.hist(diff)\n",
    "plt.show()\n"
   ]
  }
 ],
 "metadata": {
  "kernelspec": {
   "display_name": "projectname",
   "language": "python",
   "name": "projectname"
  },
  "language_info": {
   "codemirror_mode": {
    "name": "ipython",
    "version": 3
   },
   "file_extension": ".py",
   "mimetype": "text/x-python",
   "name": "python",
   "nbconvert_exporter": "python",
   "pygments_lexer": "ipython3",
   "version": "3.5.2"
  }
 },
 "nbformat": 4,
 "nbformat_minor": 2
}
