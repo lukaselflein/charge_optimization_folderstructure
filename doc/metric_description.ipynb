{
 "cells": [
  {
   "cell_type": "markdown",
   "metadata": {},
   "source": [
    "# RRMSD metric\n",
    "\n",
    "## Goal\n",
    "We want to find optimal charges to parametrize the SMAMP molecules with. For this, we use HORTON charge fitting, which has two free parameters: rhoref and sigma.\n",
    "The HORTON algorithm minimizes the weighted error between the eletrostatic potential (ESP) calculated via DFT calculation, and the ESP obtained from point charges.\n",
    "Rhoref determines the electron density at which the most weight will be assigned.\n",
    "Sigma is the broadness of the weight, i.e. how fast the weights decay away from rhoref.\n",
    "In the original paper, values of $10**{-9}$ (rhoref) and 0.8 (sigma) were used, and it was suggested that this would generalize to other molecules\n",
    "\n",
    "## Problem\n",
    "We have seen that the default values do not behave well for the charged structures Sarah wants to simulate. This project aims to find reasonable values.\n",
    "\n",
    "## Solution\n",
    "To evaluate which parameters are better suited, we do some parameter sweeps.\n",
    "For the evaluation of the sweeps, we need a function mapping the charges to real numbers.\n",
    "In the original paper, the authors used RRMSD (Relative Root Mean Square Deviation) between DFT-ESP and Pointcharge-ESP.\n",
    "Sarah wants to use RRMS between constrained and unconstrained charges instead. This metric is defined as:\n",
    "\n",
    "$RRMSD = \\sqrt{\\frac{\\sum_{i=0}^N{(q^{con}_i - q^{uncon}_i)^2}}{N}}$\n",
    "\n",
    "which sums over all distinct atoms (i=0 .. N), resulting in a positive value in units of elementary charge [e].\n",
    "This is roughly the mean deviation between constrained and unconstrained charges per atom.\n",
    "This metric puts more weight on outliers than a non-quadratic sum would.\n",
    "\n",
    "Evaluating the RRMSD over the 2D-space of (rhoref,sigma), we can evaluate how close our chosen parameter values are to the minimum.\n",
    "\n"
   ]
  }
 ],
 "metadata": {
  "kernelspec": {
   "display_name": "projectname",
   "language": "python",
   "name": "projectname"
  },
  "language_info": {
   "codemirror_mode": {
    "name": "ipython",
    "version": 3
   },
   "file_extension": ".py",
   "mimetype": "text/x-python",
   "name": "python",
   "nbconvert_exporter": "python",
   "pygments_lexer": "ipython3",
   "version": "3.5.2"
  }
 },
 "nbformat": 4,
 "nbformat_minor": 2
}
