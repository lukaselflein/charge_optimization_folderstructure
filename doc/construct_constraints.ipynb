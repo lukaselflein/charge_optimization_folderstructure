{
 "cells": [
  {
   "cell_type": "markdown",
   "metadata": {},
   "source": [
    "# Reading and constructing constraints"
   ]
  },
  {
   "cell_type": "code",
   "execution_count": 253,
   "metadata": {},
   "outputs": [],
   "source": [
    "import matplotlib.pyplot as plt\n",
    "\n",
    "from smamp.insertHbyList import insertHbyList\n",
    "from smamp.tools import read_atom_numbers\n",
    "from smamp.tools import read_total_charge\n",
    "\n",
    "import h5py\n",
    "import ase\n",
    "import warnings\n",
    "import sys\n",
    "import ast\n",
    "import argparse\n",
    "import os\n",
    "import ase.io\n",
    "import parmed as pmd\n",
    "import numpy as np\n",
    "import pandas as pd"
   ]
  },
  {
   "cell_type": "code",
   "execution_count": 3,
   "metadata": {},
   "outputs": [],
   "source": [
    "def create_structure(infile_pdb, infile_top, strip_string=':SOL,CL', implicitHbondingPartners = None):\n",
    "        \n",
    "    if implicitHbondingPartners is None:\n",
    "        implicitHbondingPartners = read_atom_numbers()\n",
    "        \n",
    "    ua_ase_struct = ase.io.read(infile_pdb)\n",
    "    ua_pmd_struct = pmd.load_file(infile_pdb)\n",
    "    with warnings.catch_warnings():\n",
    "        warnings.simplefilter(\"ignore\")\n",
    "        ua_pmd_top = pmd.gromacs.GromacsTopologyFile(infile_top,parametrize=False)\n",
    "\n",
    "    ua_pmd_top.strip(strip_string)\n",
    "        #strip water and electrolyte from system (if not yet done in .top)\n",
    "    ua_pmd_top.box = ua_pmd_struct.box # Needed because .pdb contains box info\n",
    "    ua_pmd_top.positions = ua_pmd_struct.positions\n",
    "\n",
    "    ua_names = [ a.name for a in ua_pmd_top.atoms ]\n",
    "    ua_residues = [ a.residue.name for a in ua_pmd_top.atoms ]\n",
    "\n",
    "    aa_ase_struct, aa_pmd_struct, aa_names, aa_residues = \\\n",
    "        insertHbyList(ua_ase_struct,ua_pmd_top,\n",
    "        implicitHbondingPartners,1.0)\n",
    "\n",
    "    ua_count = len(ua_ase_struct)     # united atoms structure\n",
    "    aa_count = len(aa_ase_struct) # all atoms structure\n",
    "\n",
    "    ua_ase_index = np.arange(ua_count)\n",
    "    aa_ase_index = np.arange(aa_count)\n",
    "\n",
    "    aa_atom_residue_list = list(zip(aa_names,aa_residues))\n",
    "    aa_ase_index = range(aa_count)\n",
    "    aa_ase2pmd = dict(zip(aa_ase_index,aa_atom_residue_list))\n",
    "    aa_pmd2ase = dict(zip(aa_atom_residue_list,aa_ase_index))\n",
    "\n",
    "    ua_atom_residue_list = list(zip(ua_names,ua_residues))\n",
    "    ua_ase_index = range(ua_count)\n",
    "    ua_ase2pmd = dict(zip(ua_ase_index,ua_atom_residue_list))\n",
    "    ua_pmd2ase = dict(zip(ua_atom_residue_list,ua_ase_index))\n",
    "\n",
    "    # TODO: distinction for ua and aa fitting:\n",
    "    pmd_struct = ua_pmd_struct\n",
    "    pmd_top = ua_pmd_top\n",
    "    ase2pmd = ua_ase2pmd\n",
    "    pmd2ase = ua_pmd2ase\n",
    "    return pmd_struct, pmd_top, ase2pmd, pmd2ase"
   ]
  },
  {
   "cell_type": "code",
   "execution_count": 53,
   "metadata": {},
   "outputs": [],
   "source": [
    "infile_pdb = \"200_ps_snapshot/0_initial_structure/snapshot.pdb\"\n",
    "infile_top = \"200_ps_snapshot/0_initial_structure/example.top\"\n",
    "infile_cost_h5 = \"horton_charges/costfunction_average.h5\"\n",
    "infile_atoms_in_cg_csv = \"con_test/atoms_in_charge_group.csv\"\n",
    "infile_cg_charges_csv = \"con_test/charge_group_total_charge.csv\"\n",
    "infile_atoms_of_same_charge_csv = \"con_test/atoms_of_same_charge.csv\",\n",
    "qtot = 1\n",
    "strip_string=':SOL,CL'    "
   ]
  },
  {
   "cell_type": "code",
   "execution_count": 54,
   "metadata": {},
   "outputs": [
    {
     "name": "stdout",
     "output_type": "stream",
     "text": [
      "('CE1', 'terB')\n",
      "0\n"
     ]
    }
   ],
   "source": [
    "pmd_struct, pmd_top, ase2pmd, pmd2ase = create_structure(infile_pdb, infile_top)\n",
    "print(ase2pmd[0])\n",
    "print(pmd2ase[('CE1', 'terB')])"
   ]
  },
  {
   "cell_type": "code",
   "execution_count": 56,
   "metadata": {},
   "outputs": [
    {
     "name": "stdout",
     "output_type": "stream",
     "text": [
      "[array([ 0,  1,  2,  3,  4,  5,  6,  7,  8,  9, 10, 11, 12, 13, 14, 15, 16,\n",
      "       17, 18, 19, 20, 21, 22, 23, 24, 25, 26, 27, 28, 29]), array([30, 31, 32, 33, 34, 35, 36, 37, 38, 39, 40, 41, 42, 43, 44, 45, 46,\n",
      "       47, 48, 49, 50, 51, 52, 53, 54, 55, 56]), array([57, 58, 59, 60, 61, 62, 63, 64, 65, 66, 67, 68, 69, 70, 71, 72, 73,\n",
      "       74, 75, 76, 77, 78, 79, 80, 81, 82, 83, 84, 85, 86, 87, 88, 89, 90,\n",
      "       91, 92, 93, 94, 95, 96])]\n"
     ]
    }
   ],
   "source": [
    "def read_AtomName_ChargeGroup(file_name, ase2pmd):\n",
    "    \n",
    "    ase2pmd_df = pd.DataFrame(ase2pmd).T\n",
    "    ase2pmd_df.columns = ['atom','residue']\n",
    "\n",
    "    pmd2cg_df = pd.read_csv(file_name, sep=',', header=None,\n",
    "                            comment='#', names=['atom','cg'])\n",
    "\n",
    "    unique_residues = ase2pmd_df['residue'].unique()\n",
    "    unique_charge_groups = pmd2cg_df['cg'].unique()\n",
    "\n",
    "    cg2ase = []\n",
    "    for cgtype in unique_charge_groups:    \n",
    "        for r in unique_residues:\n",
    "            names_in_cg = pmd2cg_df[pmd2cg_df['cg'] == cgtype]['atom']\n",
    "            cg_sel = ase2pmd_df['atom'].isin(names_in_cg)\n",
    "            res_sel = (ase2pmd_df['residue'] == r )\n",
    "\n",
    "            new_cg = ase2pmd_df[cg_sel & res_sel]\n",
    "\n",
    "            if not new_cg.empty:\n",
    "                cg2ase.append(new_cg.index.values)\n",
    "\n",
    "    return cg2ase\n",
    "\n",
    "cg2ase = read_AtomName_ChargeGroup(file_name=infile_atoms_in_cg_csv, ase2pmd=ase2pmd)\n",
    "print(cg2ase)"
   ]
  },
  {
   "cell_type": "code",
   "execution_count": 227,
   "metadata": {},
   "outputs": [
    {
     "name": "stdout",
     "output_type": "stream",
     "text": [
      "{1: [0, 1, 2, 3, 4, 5, 6, 7, 8, 9, 10, 11, 12, 13, 14, 15, 16, 17, 18, 19, 20, 21, 22, 23, 24, 25, 26, 27, 28, 29, 30, 31, 32, 33, 34, 35, 36, 37, 38, 39, 40, 41, 42, 43, 44, 45, 46, 47, 48, 49, 50, 51, 52, 53, 54, 55, 56, 57, 58, 59, 60, 61, 62, 63, 64, 65, 66, 67, 68, 69, 70, 71, 72, 73, 74, 75, 76, 77, 78, 79, 80, 81, 82, 83, 84, 85, 86, 87, 88, 89, 90, 91, 92, 93, 94, 95, 96]}\n"
     ]
    }
   ],
   "source": [
    "def read_charge_groups(file_name, ase2pmd):\n",
    "    # first we read in the textfile\n",
    "    df = pd.read_csv(file_name, sep=',', header=None,\n",
    "                            comment='#', names=['atom','cg'])\n",
    "    \n",
    "    # Atoms appear in multiple charge groups.\n",
    "    # In the end, we want something like\n",
    "    # {cg1: [1, 5, 8]}\n",
    "    charge_groups = {}\n",
    "    for atom in df.atom:\n",
    "        # cg is the charge group of the current atom\n",
    "        cg = df.loc[df.atom == atom].cg.values[0]\n",
    "        if not cg in charge_groups.keys():\n",
    "            charge_groups[cg] = []        \n",
    "        \n",
    "        # ase2pmd is formatted like\n",
    "        # 0: ('CE1', 'terB')\n",
    "        for ase_index, atom_residuum in ase2pmd.items():\n",
    "                # If the atom names match, pick the ase index            \n",
    "                if atom in atom_residuum:\n",
    "                    charge_groups[cg] += [ase_index]\n",
    "    # Sort everything                \n",
    "    for ase_index in charge_groups.keys():\n",
    "        charge_groups[ase_index].sort()\n",
    "    \n",
    "    return charge_groups\n",
    "\n",
    "charge_groups = read_charge_groups(file_name=infile_atoms_in_cg_csv, ase2pmd=ase2pmd)\n",
    "print(charge_groups)"
   ]
  },
  {
   "cell_type": "code",
   "execution_count": 265,
   "metadata": {},
   "outputs": [
    {
     "name": "stdout",
     "output_type": "stream",
     "text": [
      "   charge\n",
      "1       0\n",
      "2       0\n",
      "3       0\n"
     ]
    }
   ],
   "source": [
    "def read_ChargeGroup_TotalCharge(file_name):\n",
    "    group_q = pd.read_csv(file_name, sep=',', header=None, comment='#',\n",
    "                          names=['charge'], index_col=0)\n",
    "    group_q.charge = group_q.charge.astype(int)    \n",
    "    return group_q\n",
    "\n",
    "group_q = read_ChargeGroup_TotalCharge(file_name=infile_cg_charges_csv)\n",
    "print(group_q)"
   ]
  },
  {
   "cell_type": "code",
   "execution_count": 249,
   "metadata": {},
   "outputs": [
    {
     "data": {
      "text/plain": [
       "(array([[1, 1, 1, 1, 1, 1, 1, 1, 1, 1, 1, 1, 1, 1, 1, 1, 1, 1, 1, 1, 1, 1,\n",
       "         1, 1, 1, 1, 1, 1, 1, 1, 1, 1, 1, 1, 1, 1, 1, 1, 1, 1, 1, 1, 1, 1,\n",
       "         1, 1, 1, 1, 1, 1, 1, 1, 1, 1, 1, 1, 1, 1, 1, 1, 1, 1, 1, 1, 1, 1,\n",
       "         0, 0, 0, 0, 1, 1, 1, 1, 1, 1, 1, 1, 1, 1, 1, 1, 1, 1, 1, 1, 1, 1,\n",
       "         1, 1, 1, 1, 1, 1, 1, 1, 1],\n",
       "        [0, 0, 0, 0, 0, 0, 0, 0, 0, 0, 0, 0, 0, 0, 0, 0, 0, 0, 0, 0, 0, 0,\n",
       "         0, 0, 0, 0, 0, 0, 0, 0, 0, 0, 0, 0, 0, 0, 0, 0, 0, 0, 0, 0, 0, 0,\n",
       "         0, 0, 0, 0, 0, 0, 0, 0, 0, 0, 0, 0, 0, 0, 0, 0, 0, 0, 0, 0, 0, 0,\n",
       "         1, 1, 1, 1, 0, 0, 0, 0, 0, 0, 0, 0, 0, 0, 0, 0, 0, 0, 0, 0, 0, 0,\n",
       "         0, 0, 0, 0, 0, 0, 0, 0, 0]]), array([5, 1]))"
      ]
     },
     "execution_count": 249,
     "metadata": {},
     "output_type": "execute_result"
    }
   ],
   "source": [
    "def construct_charge_group_constraints(charge_groups, group_q, n_atoms):\n",
    "    \n",
    "    # Initialize empty arrays\n",
    "    D_matrix = np.zeros((len(charge_groups), n_atoms), dtype=int)\n",
    "    Q_vector = np.zeros(len(charge_groups), dtype=int)\n",
    "    \n",
    "    # Fill in constraint values for every charge group\n",
    "    for ase_index in charge_groups.keys():\n",
    "        cg = charge_groups[ase_index]\n",
    "        # Note: Charge groups are [1, 2, ...], np indices are [0, 1, ..]\n",
    "        # 1 means that the sum of q_i in the charge group is unweighted\n",
    "        D_matrix[ase_index - 1, cg] = 1\n",
    "       \n",
    "        # Now we need to specify the total charge of the group in a vector\n",
    "        total_group_charge = group_q.loc[ase_index]\n",
    "        Q_vector[ase_index - 1] = total_group_charge\n",
    "\n",
    "    return D_matrix, Q_vector\n",
    "\n",
    "construct_charge_group_constraints(charge_groups, group_q, n_atoms)"
   ]
  },
  {
   "cell_type": "code",
   "execution_count": 358,
   "metadata": {},
   "outputs": [
    {
     "data": {
      "image/png": "[encoded data removed]",
      "text/plain": [
       "<Figure size 432x288 with 1 Axes>"
      ]
     },
     "metadata": {
      "needs_background": "light"
     },
     "output_type": "display_data"
    }
   ],
   "source": [
    "from refactored_fitESPconstrained import *\n",
    "A, B = read_horton_cost_function(infile_cost_h5)\n",
    "\n",
    "n_atoms = len(ase2pmd)\n",
    "group_q = read_ChargeGroup_TotalCharge(file_name=infile_cg_charges_csv)\n",
    "charge_groups = read_charge_groups(file_name=infile_atoms_in_cg_csv, ase2pmd=ase2pmd)\n",
    "\n",
    "D_matrix, Q_vector = construct_charge_group_constraints(charge_groups, group_q, n_atoms)\n",
    "\n",
    "q, f = constrained_minimize(A, B, D=D_matrix, Q=Q_vector)\n",
    "\n",
    "plt.plot(q, range(len(q)), lw=0, marker='o')\n",
    "plt.show()"
   ]
  },
  {
   "cell_type": "code",
   "execution_count": 298,
   "metadata": {},
   "outputs": [],
   "source": [
    "def constructPairwiseSymmetryConstraints(charges, N, symmetry=1.0, debug=False):\n",
    "\n",
    "    D = []\n",
    "    q = []\n",
    "\n",
    "    # loop over sets of equally charged atoms\n",
    "    for charge_list in charges:\n",
    "        M = len(charge_list)-1 # number of pairwise constraints for the current list\n",
    "\n",
    "        #symmetry = symmetry*np.ones(M)\n",
    "\n",
    "\n",
    "        D_single = np.atleast_2d(np.zeros((M,N)))\n",
    "        q_single = np.atleast_1d(np.zeros(M))\n",
    "        D_single[:,charge_list[0]] = 1 # 1st atom in list used in every constraint\n",
    "\n",
    "        for j in range(M):\n",
    "            D_single[j,charge_list[j+1]] = -1.0*symmetry\n",
    "\n",
    "        #add up D_single and q_single to D and q\n",
    "        D.append(D_single)\n",
    "        q.append(q_single)\n",
    "\n",
    "    D,q = concatenated_constraints(D,q)\n",
    "    return D, q\n",
    "\n"
   ]
  },
  {
   "cell_type": "code",
   "execution_count": 392,
   "metadata": {},
   "outputs": [],
   "source": [
    "def parse_symmetry(file_name)\n",
    "    df = pd.read_csv(file_name, sep=',', header=None,  comment='#')\n",
    "    symm_names = df.values.tolist()\n",
    "    return symm_names\n",
    "                \n",
    "def symmetry_names_to_index_groups(symm_names, ase2pmd):\n",
    "    \"\"\"Transform atom-name based constraints into index-based constraints.\"\"\"\n",
    "    symm_groups = []\n",
    "    for i in range(len(symm_names)):\n",
    "        names = symm_names[i]\n",
    "        symm_groups += [[]]\n",
    "        for ase_index, atom_residuum in ase2pmd.items():\n",
    "            # If the atom names match, pick the ase index \n",
    "            atom_name = atom_residuum[0]\n",
    "            if names[0] == atom_name:\n",
    "                # Every member of this group is supposed to have equal charge           \n",
    "                symm_groups[i] += [ase_index]\n",
    "            if names[1] == atom_name:\n",
    "                symm_groups[i] += [ase_index]\n",
    "    return symm_groups\n",
    "            \n",
    "def symmetry_groups_to_matrix(symm_groups, n_atoms):\n",
    "    \"\"\" Generate matrix-constraints from groups of same-charge indices.\n",
    "    >>> groups = [[0, 2, 3]]\n",
    "    >>> c = np.array([[1, 0, -1, 0, 0],\n",
    "                      [1, 0, 0, -1, 0]])\n",
    "    >>> symmetry_groups_to_matrix(groups, n_atoms=5)\n",
    "    c\n",
    "    \"\"\"\n",
    "    symm_list = []\n",
    "    for group in symm_groups:\n",
    "        for atom_index in group[1:]:\n",
    "            matrix_row = np.zeros(n_atoms, dtype=int)\n",
    "            matrix_row[group[0]] = 1\n",
    "            matrix_row[atom_index] = -1\n",
    "            symm_list += [matrix_row]\n",
    "\n",
    "    symm_matrix = np.array(symm_list)\n",
    "    return symm_matrix\n",
    "\n",
    "symm_groups = symmetry_names_to_index_groups(symm_names, ase2pmd)\n",
    "symm_matrix = symmetry_groups_to_matrix(symm_groups, n_atoms)"
   ]
  },
  {
   "cell_type": "code",
   "execution_count": 301,
   "metadata": {},
   "outputs": [
    {
     "name": "stdout",
     "output_type": "stream",
     "text": [
      "atoms_in_charge_group.csv  charge_group_total_charge.csv  total_charge.csv\r\n",
      "atoms_of_same_charge.csv   hydrogen_per_atom.csv\r\n"
     ]
    }
   ],
   "source": [
    "\n",
    "unique_atoms = ase2pmd_df['atom'].unique()\n",
    "for a in unique_atoms:\n",
    "    new_symmetry_group = ase2pmd_df[ ase2pmd_df['atom'] == a ]\n",
    "    if not new_symmetry_group.empty:\n",
    "        if len(new_symmetry_group.index.values) < 2:\n",
    "            pass\n",
    "        else:\n",
    "            sym2ase.append(new_symmetry_group.index.values)\n",
    "\n",
    "for i, group in sca_df.iterrows():\n",
    "    sca_sel = ase2pmd_df['atom'].isin(group)\n",
    "    new_symmetry_group = ase2pmd_df[sca_sel]\n",
    "\n",
    "    if not new_symmetry_group.empty:\n",
    "        sym2ase.append(new_symmetry_group.index.values)\n"
   ]
  }
 ],
 "metadata": {
  "kernelspec": {
   "display_name": "projectname",
   "language": "python",
   "name": "projectname"
  },
  "language_info": {
   "codemirror_mode": {
    "name": "ipython",
    "version": 3
   },
   "file_extension": ".py",
   "mimetype": "text/x-python",
   "name": "python",
   "nbconvert_exporter": "python",
   "pygments_lexer": "ipython3",
   "version": "3.5.2"
  }
 },
 "nbformat": 4,
 "nbformat_minor": 2
}
