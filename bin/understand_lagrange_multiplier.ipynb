{
 "cells": [
  {
   "cell_type": "markdown",
   "metadata": {},
   "source": [
    "# Understand Lagrange Multiplier\n",
    "\n",
    "## Function-based"
   ]
  },
  {
   "cell_type": "code",
   "execution_count": 1,
   "metadata": {},
   "outputs": [
    {
     "ename": "AttributeError",
     "evalue": "module 'matplotlib.colors' has no attribute 'to_rgba'",
     "output_type": "error",
     "traceback": [
      "\u001b[0;31m---------------------------------------------------------------------------\u001b[0m",
      "\u001b[0;31mAttributeError\u001b[0m                            Traceback (most recent call last)",
      "\u001b[0;32m<ipython-input-1-7ff1bfd972f0>\u001b[0m in \u001b[0;36m<module>\u001b[0;34m\u001b[0m\n\u001b[1;32m     20\u001b[0m \u001b[0;34m\u001b[0m\u001b[0m\n\u001b[1;32m     21\u001b[0m \u001b[0max\u001b[0m\u001b[0;34m.\u001b[0m\u001b[0mplot\u001b[0m\u001b[0;34m(\u001b[0m\u001b[0mx1\u001b[0m\u001b[0;34m,\u001b[0m \u001b[0my1\u001b[0m\u001b[0;34m,\u001b[0m \u001b[0mx1\u001b[0m \u001b[0;34m+\u001b[0m \u001b[0my1\u001b[0m\u001b[0;34m,\u001b[0m \u001b[0;34m'r-'\u001b[0m\u001b[0;34m,\u001b[0m \u001b[0mlw\u001b[0m\u001b[0;34m=\u001b[0m\u001b[0;36m5\u001b[0m\u001b[0;34m)\u001b[0m\u001b[0;34m\u001b[0m\u001b[0m\n\u001b[0;32m---> 22\u001b[0;31m \u001b[0mplt\u001b[0m\u001b[0;34m.\u001b[0m\u001b[0mshow\u001b[0m\u001b[0;34m(\u001b[0m\u001b[0;34m)\u001b[0m\u001b[0;34m\u001b[0m\u001b[0m\n\u001b[0m",
      "\u001b[0;32m/usr/lib/python3/dist-packages/matplotlib/pyplot.py\u001b[0m in \u001b[0;36mshow\u001b[0;34m(*args, **kw)\u001b[0m\n\u001b[1;32m    242\u001b[0m     \"\"\"\n\u001b[1;32m    243\u001b[0m     \u001b[0;32mglobal\u001b[0m \u001b[0m_show\u001b[0m\u001b[0;34m\u001b[0m\u001b[0m\n\u001b[0;32m--> 244\u001b[0;31m     \u001b[0;32mreturn\u001b[0m \u001b[0m_show\u001b[0m\u001b[0;34m(\u001b[0m\u001b[0;34m*\u001b[0m\u001b[0margs\u001b[0m\u001b[0;34m,\u001b[0m \u001b[0;34m**\u001b[0m\u001b[0mkw\u001b[0m\u001b[0;34m)\u001b[0m\u001b[0;34m\u001b[0m\u001b[0m\n\u001b[0m\u001b[1;32m    245\u001b[0m \u001b[0;34m\u001b[0m\u001b[0m\n\u001b[1;32m    246\u001b[0m \u001b[0;34m\u001b[0m\u001b[0m\n",
      "\u001b[0;32m~/.local/lib/python3.5/site-packages/ipykernel/pylab/backend_inline.py\u001b[0m in \u001b[0;36mshow\u001b[0;34m(close, block)\u001b[0m\n\u001b[1;32m     37\u001b[0m             display(\n\u001b[1;32m     38\u001b[0m                 \u001b[0mfigure_manager\u001b[0m\u001b[0;34m.\u001b[0m\u001b[0mcanvas\u001b[0m\u001b[0;34m.\u001b[0m\u001b[0mfigure\u001b[0m\u001b[0;34m,\u001b[0m\u001b[0;34m\u001b[0m\u001b[0m\n\u001b[0;32m---> 39\u001b[0;31m                 \u001b[0mmetadata\u001b[0m\u001b[0;34m=\u001b[0m\u001b[0m_fetch_figure_metadata\u001b[0m\u001b[0;34m(\u001b[0m\u001b[0mfigure_manager\u001b[0m\u001b[0;34m.\u001b[0m\u001b[0mcanvas\u001b[0m\u001b[0;34m.\u001b[0m\u001b[0mfigure\u001b[0m\u001b[0;34m)\u001b[0m\u001b[0;34m\u001b[0m\u001b[0m\n\u001b[0m\u001b[1;32m     40\u001b[0m             )\n\u001b[1;32m     41\u001b[0m     \u001b[0;32mfinally\u001b[0m\u001b[0;34m:\u001b[0m\u001b[0;34m\u001b[0m\u001b[0m\n",
      "\u001b[0;32m~/.local/lib/python3.5/site-packages/ipykernel/pylab/backend_inline.py\u001b[0m in \u001b[0;36m_fetch_figure_metadata\u001b[0;34m(fig)\u001b[0m\n\u001b[1;32m    172\u001b[0m     \u001b[0;34m\"\"\"Get some metadata to help with displaying a figure.\"\"\"\u001b[0m\u001b[0;34m\u001b[0m\u001b[0m\n\u001b[1;32m    173\u001b[0m     \u001b[0;31m# determine if a background is needed for legibility\u001b[0m\u001b[0;34m\u001b[0m\u001b[0;34m\u001b[0m\u001b[0m\n\u001b[0;32m--> 174\u001b[0;31m     \u001b[0;32mif\u001b[0m \u001b[0m_is_transparent\u001b[0m\u001b[0;34m(\u001b[0m\u001b[0mfig\u001b[0m\u001b[0;34m.\u001b[0m\u001b[0mget_facecolor\u001b[0m\u001b[0;34m(\u001b[0m\u001b[0;34m)\u001b[0m\u001b[0;34m)\u001b[0m\u001b[0;34m:\u001b[0m\u001b[0;34m\u001b[0m\u001b[0m\n\u001b[0m\u001b[1;32m    175\u001b[0m         \u001b[0;31m# the background is transparent\u001b[0m\u001b[0;34m\u001b[0m\u001b[0;34m\u001b[0m\u001b[0m\n\u001b[1;32m    176\u001b[0m         ticksLight = _is_light([label.get_color()\n",
      "\u001b[0;32m~/.local/lib/python3.5/site-packages/ipykernel/pylab/backend_inline.py\u001b[0m in \u001b[0;36m_is_transparent\u001b[0;34m(color)\u001b[0m\n\u001b[1;32m    193\u001b[0m \u001b[0;32mdef\u001b[0m \u001b[0m_is_transparent\u001b[0m\u001b[0;34m(\u001b[0m\u001b[0mcolor\u001b[0m\u001b[0;34m)\u001b[0m\u001b[0;34m:\u001b[0m\u001b[0;34m\u001b[0m\u001b[0m\n\u001b[1;32m    194\u001b[0m     \u001b[0;34m\"\"\"Determine transparency from alpha.\"\"\"\u001b[0m\u001b[0;34m\u001b[0m\u001b[0m\n\u001b[0;32m--> 195\u001b[0;31m     \u001b[0mrgba\u001b[0m \u001b[0;34m=\u001b[0m \u001b[0mcolors\u001b[0m\u001b[0;34m.\u001b[0m\u001b[0mto_rgba\u001b[0m\u001b[0;34m(\u001b[0m\u001b[0mcolor\u001b[0m\u001b[0;34m)\u001b[0m\u001b[0;34m\u001b[0m\u001b[0m\n\u001b[0m\u001b[1;32m    196\u001b[0m     \u001b[0;32mreturn\u001b[0m \u001b[0mrgba\u001b[0m\u001b[0;34m[\u001b[0m\u001b[0;36m3\u001b[0m\u001b[0;34m]\u001b[0m \u001b[0;34m<\u001b[0m \u001b[0;36m.5\u001b[0m\u001b[0;34m\u001b[0m\u001b[0m\n",
      "\u001b[0;31mAttributeError\u001b[0m: module 'matplotlib.colors' has no attribute 'to_rgba'"
     ]
    }
   ],
   "source": [
    "import numpy as np\n",
    "\n",
    "x = np.linspace(-1.5, 1.5)\n",
    "\n",
    "[X, Y] = np.meshgrid(x, x)\n",
    "\n",
    "import matplotlib as mpl\n",
    "from mpl_toolkits.mplot3d import Axes3D\n",
    "import matplotlib.pyplot as plt\n",
    "\n",
    "fig = plt.figure()\n",
    "ax = fig.gca(projection='3d')\n",
    "\n",
    "ax.plot_surface(X, Y, X + Y)\n",
    "\n",
    "theta = np.linspace(0,2*np.pi);\n",
    "R = 1.0\n",
    "x1 = R * np.cos(theta)\n",
    "y1 = R * np.sin(theta)\n",
    "\n",
    "ax.plot(x1, y1, x1 + y1, 'r-', lw=5)\n",
    "plt.show()"
   ]
  },
  {
   "cell_type": "markdown",
   "metadata": {},
   "source": [
    "### Construct the Lagrange multiplier augmented function\n",
    "\n",
    "To find the maximum, we construct the following function: \n",
    "\n",
    "Λ(x,y;λ)=f(x,y)+λg(x,y)\n",
    "\n",
    "where \n",
    "\n",
    "g(x,y)=x2+y2−1=0\n",
    "\n",
    "which is the constraint function. \n",
    "\n",
    "Since g(x,y)=0, we are not really changing the original function, provided that the constraint is met!"
   ]
  },
  {
   "cell_type": "code",
   "execution_count": null,
   "metadata": {},
   "outputs": [],
   "source": [
    "import numpy as np\n",
    "\n",
    "def func(X):\n",
    "    x = X[0]\n",
    "    y = X[1]\n",
    "    L = X[2] # this is the multiplier. lambda is a reserved keyword in python\n",
    "    return x + y + L * (x**2 + y**2 - 1)"
   ]
  },
  {
   "cell_type": "markdown",
   "metadata": {},
   "source": [
    "### Finding the partial derivatives\n",
    "\n",
    "The minima/maxima of the augmented function are located where all of the partial derivatives of the augmented function are equal to zero, i.e. \n",
    "\n",
    "∂Λ/∂x=0, ∂Λ/∂y=0, and ∂Λ/∂λ=0\n",
    "\n",
    ". the process for solving this is usually to analytically evaluate the partial derivatives, and then solve the unconstrained resulting equations, which may be nonlinear.\n",
    "\n",
    "Rather than perform the analytical differentiation, here we develop a way to numerically approximate the partial derivatives.\n",
    "\n"
   ]
  },
  {
   "cell_type": "code",
   "execution_count": null,
   "metadata": {},
   "outputs": [],
   "source": [
    "def dfunc(X):\n",
    "    dLambda = np.zeros(len(X))\n",
    "    h = 1e-3 # this is the step size used in the finite difference.\n",
    "    for i in range(len(X)):\n",
    "        dX = np.zeros(len(X))\n",
    "        dX[i] = h\n",
    "        dLambda[i] = (func(X+dX)-func(X-dX))/(2*h);\n",
    "    return dLambda"
   ]
  },
  {
   "cell_type": "markdown",
   "metadata": {},
   "source": [
    "### Now we solve for the zeros in the partial derivatives\n",
    "\n",
    "The function we defined above (dfunc) will equal zero at a maximum or minimum. It turns out there are two solutions to this problem, but only one of them is the maximum value. Which solution you get depends on the initial guess provided to the solver. Here we have to use some judgement to identify the maximum.\n"
   ]
  },
  {
   "cell_type": "code",
   "execution_count": null,
   "metadata": {},
   "outputs": [],
   "source": [
    "from scipy.optimize import fsolve\n",
    "\n",
    "# this is the max\n",
    "X1 = fsolve(dfunc, [1, 1, 0])\n",
    "print(X1, func(X1))\n",
    "\n",
    "# this is the min\n",
    "X2 = fsolve(dfunc, [-1, -1, 0])\n",
    "print(X2, func(X2))"
   ]
  },
  {
   "cell_type": "markdown",
   "metadata": {},
   "source": [
    "# LinAlg Based \n",
    "### 1D Case\n",
    "Say we have a qudratic function\n",
    "\n",
    "$f(x) = x^2$\n",
    "\n",
    "and a constraint\n",
    "* $x = 1; g(x) = x - 1 = 0$\n",
    "\n",
    "We can solve this via Lagrange multipliers:\n",
    "\n",
    "$ L = x^2 + \\lambda (1 - x)$\n",
    "\n",
    "$ \\frac{dL}{dx} = 2 x - \\lambda = 0$ \n",
    "\n",
    "$ \\frac{dL}{d\\lambda} = 1-x  = 0$\n",
    "\n",
    "$ \\rightarrow x = 1, \\lambda = 2$"
   ]
  },
  {
   "cell_type": "code",
   "execution_count": null,
   "metadata": {},
   "outputs": [],
   "source": [
    "A = np.array([[1]])\n",
    "B = np.array([0])\n",
    "x = np.linalg.solve(A, B)\n",
    "print('Unconstrained Solution: ', x)\n",
    "\n",
    "constraint = np.array([1])\n",
    "constraint_B = np.array([1])\n",
    "A_con = np.block([[A, constraint.T],[constraint, np.zeros(A.shape)]])\n",
    "B_con = np.block([B, constraint_B])\n",
    "x_con = np.linalg.solve(A_con, B_con)\n",
    "print('Constrained Solution: ', x_con)"
   ]
  },
  {
   "cell_type": "markdown",
   "metadata": {},
   "source": [
    "### Higher Dimensional Case\n",
    "$x = [x_1, x_2, ...]$\n",
    "\n",
    "$f(x) = x_1^2 + \\frac{1}{2} x_2^2$\n",
    "\n",
    "* constraint: x_1 = x_2\n",
    "* g(x,y) = x-y =0"
   ]
  },
  {
   "cell_type": "code",
   "execution_count": null,
   "metadata": {},
   "outputs": [],
   "source": [
    "A = np.array([[2, 0],[0, 2]])\n",
    "B = np.array([14, 6])\n",
    "print(A)\n",
    "print(B)\n",
    "\n",
    "x = np.linalg.solve(A, B)\n",
    "print('Unconstrained solution: (0, 0)', x)"
   ]
  },
  {
   "cell_type": "markdown",
   "metadata": {},
   "source": [
    "We can constrain a system until it has a unique solution:"
   ]
  },
  {
   "cell_type": "code",
   "execution_count": null,
   "metadata": {},
   "outputs": [],
   "source": [
    "constraint = np.array([[1, -1], [0, 1]])\n",
    "constraint_b = np.array([0, 3])\n",
    "A_con = np.block([[A, constraint.T],[constraint, np.zeros(A.shape)]])\n",
    "B_con = np.block([B, constraint_b])\n",
    "print(A_con)\n",
    "print(B_con)\n",
    "x_con = np.linalg.solve(A_con, B_con)\n",
    "print('Solution:\\t', x_con[:B.size])\n",
    "print('Forces: \\t', x_con[B.size:])"
   ]
  },
  {
   "cell_type": "markdown",
   "metadata": {},
   "source": [
    "But how do we use less constraints? Whenever we try to set a row to zero, we can no longer invert it because then rows are no longer lin. independent."
   ]
  },
  {
   "cell_type": "code",
   "execution_count": null,
   "metadata": {},
   "outputs": [],
   "source": [
    "constraint = np.array([[1, -1], [0, 0]])\n",
    "constraint_b = np.array([0, 0])\n",
    "A_con = np.block([[A, constraint.T],[constraint, np.zeros(A.shape)]])\n",
    "B_con = np.block([B, constraint_b])\n",
    "print(A_con)\n",
    "print(B_con)\n",
    "x_con = np.linalg.solve(A_con, B_con)\n",
    "print('Solution:\\t', x_con[:B.size])\n",
    "print('Forces: \\t', x_con[B.size:])"
   ]
  },
  {
   "cell_type": "markdown",
   "metadata": {},
   "source": [
    "So, it seems like we just use less rows for the constraint matrix:\n",
    "1. Symmetry Constraint"
   ]
  },
  {
   "cell_type": "code",
   "execution_count": null,
   "metadata": {},
   "outputs": [],
   "source": [
    "A_con = np.array([[2, 0, 1], [0, 2, -1], [1, -1, 0]])\n",
    "B_con = np.block([B, 0])\n",
    "print(A_con)\n",
    "print(B_con)\n",
    "x_con = np.linalg.solve(A_con, B_con)\n",
    "print('Solution:\\t', x_con[:B.size])\n",
    "print('Forces: \\t', x_con[B.size:])"
   ]
  },
  {
   "cell_type": "markdown",
   "metadata": {},
   "source": [
    "2. Value Constraint $x_2 = 1$"
   ]
  },
  {
   "cell_type": "code",
   "execution_count": null,
   "metadata": {},
   "outputs": [],
   "source": [
    "A_con = np.array([[2, 0, 1], [0, 2, 0], [1, 0, 0]])\n",
    "B_con = np.block([B, 1])\n",
    "print(A_con)\n",
    "print(B_con)\n",
    "x_con = np.linalg.solve(A_con, B_con)\n",
    "print('Solution:\\t', x_con[:B.size])\n",
    "print('Forces: \\t', x_con[B.size:])"
   ]
  },
  {
   "cell_type": "markdown",
   "metadata": {},
   "source": [
    "3. Charge Group Constraint\n",
    "$x_1 + x_2 = 0$"
   ]
  },
  {
   "cell_type": "code",
   "execution_count": null,
   "metadata": {},
   "outputs": [],
   "source": [
    "A_con = np.array([[2, 0, 1], [0, 2, 1], [1, 1, 0]])\n",
    "B_con = np.block([B, 0])\n",
    "print(A_con)\n",
    "print(B_con)\n",
    "x_con = np.linalg.solve(A_con, B_con)\n",
    "print('Solution:\\t', x_con[:B.size])\n",
    "print('Forces: \\t', x_con[B.size:])"
   ]
  },
  {
   "cell_type": "markdown",
   "metadata": {},
   "source": [
    "## Prefactors\n",
    "$f(x) = 3 x^2 + 5 x + 7$\n",
    "\n",
    "$x = -\\frac{5}{6} = - 0.833$"
   ]
  },
  {
   "cell_type": "code",
   "execution_count": 3,
   "metadata": {},
   "outputs": [
    {
     "name": "stdout",
     "output_type": "stream",
     "text": [
      "[-0.83333333]\n"
     ]
    }
   ],
   "source": [
    "A = np.array([[3]])\n",
    "B = np.array([5])\n",
    "x = np.linalg.solve(A, -B/2)\n",
    "print(x)"
   ]
  }
 ],
 "metadata": {
  "kernelspec": {
   "display_name": "Python (Jupyter Plot)",
   "language": "python",
   "name": "jupyter"
  },
  "language_info": {
   "codemirror_mode": {
    "name": "ipython",
    "version": 3
   },
   "file_extension": ".py",
   "mimetype": "text/x-python",
   "name": "python",
   "nbconvert_exporter": "python",
   "pygments_lexer": "ipython3",
   "version": "3.5.2"
  }
 },
 "nbformat": 4,
 "nbformat_minor": 2
}
